{
 "cells": [
  {
   "cell_type": "code",
   "execution_count": 13,
   "metadata": {
    "collapsed": true
   },
   "outputs": [],
   "source": [
    "import requests\n",
    "import simplejson as json\n",
    "\n",
    "api_url = 'http://dev.longbeachca.opendata.arcgis.com/datasets/97dcff4d3835408f8ff17119040a6f46'"
   ]
  },
  {
   "cell_type": "code",
   "execution_count": 18,
   "metadata": {},
   "outputs": [
    {
     "data": {
      "text/plain": [
       "'<!DOCTYPE html>\\n<html lang=\"en-us\">\\n\\n<head>\\n  <meta charset=\"utf-8\">\\n  <meta http-equiv=\"X-UA-Compatible\" content=\"IE=edge\">\\n  <meta name=\"google-site-verification\" content=\"V9SzvB895BKr2ff7JVvaJQM1CIgPqOL5FPooX1aqENo\">\\n  <meta name=\"msvalidate.01\" content=\"217F0EED65C5B131219477CE2CEAAF8E\">\\n\\n  <meta name=\"viewport\" content=\"width=device-width, initial-scale=1\">\\n\\n\\n  <meta name=\"opendata-ui/config/environment\" content=\"%7B%22modulePrefix%22%3A%22opendata-ui%22%2C%22environment%22%3A%22production%22%2C%22rootURL%22%3A%22/%22%2C%22locationType%22%3A%22auto%22%2C%22EmberENV%22%3A%7B%22FEATURES%22%3A%7B%7D%7D%2C%22APP%22%3A%7B%22telemetry%22%3A%7B%22google%22%3A%7B%22dimensions%22%3A%7B%22datasetId%22%3A6%2C%22attribute%22%3A7%2C%22serviceQuery%22%3A8%2C%22searchQuery%22%3A9%2C%22objectId%22%3A10%2C%22facetValue%22%3A11%7D%7D%2C%22amazon%22%3A%7B%22userPoolID%22%3A%22us-east-1%3A8c41b2dc-7563-403d-ba64-673b103debce%22%2C%22app%22%3A%7B%22name%22%3A%22ArcGIS%20Hub%22%2C%22id%22%3A%22ead5ac1b4b9849f6afa2b1947d3ba761%22%2C%22version%22%3A%223.21.0%22%7D%7D%7D%2C%22gatedLocales%22%3A%5B%22ar%22%2C%22he%22%5D%2C%22API%22%3A%22https%3A//opendata.arcgis.com%22%2C%22portalBaseUrl%22%3A%22https%3A//www.arcgis.com%22%2C%22staticAssetBase%22%3A%22https%3A//d1iq7pbacwn5rb.cloudfront.net/opendata-ui/assets%22%2C%22adminUrl%22%3A%22https%3A//hub.arcgis.com/admin/%22%2C%22umbrellaUrl%22%3A%22https%3A//opendata.arcgis.com%22%2C%22links%22%3A%7B%22hub%22%3A%22https%3A//hub.arcgis.com%22%2C%22agoUrl%22%3A%22http%3A//www.arcgis.com%22%2C%22aboutOpendata%22%3A%22https%3A//hub.arcgis.com/pages/open-data%22%2C%22forums%22%3A%22https%3A//geonet.esri.com/groups/data-community%22%2C%22documentation%22%3A%22http%3A//doc.arcgis.com/en/hub/%22%7D%2C%22storymapsBuilderUrl%22%3A%22apps/MapSeries/index.html%3FfromScratch%26layout%3Dtab%26webmap%3D%22%2C%22geometryServiceUrl%22%3A%22//utility.arcgisonline.com/arcgis/rest/services/Geometry/GeometryServer%22%2C%22geoenrichmentUrl%22%3A%22https%3A//geoenrich.arcgis.com/arcgis/rest/services/World/geoenrichmentserver%22%2C%22survey123Url%22%3A%22https%3A//survey123.arcgis.com%22%2C%22infographicReportId%22%3A%22d224a5757ca54479b85a5f8d2a079342%22%2C%22gaKey%22%3A%22UA-47337822-2%22%2C%22name%22%3A%22opendata-ui%22%2C%22version%22%3A%223.21.0+9edf52f7%22%7D%2C%22gaKey%22%3A%22UA-XXXXXXXX-1%22%2C%22capabilities%22%3A%7B%22geohash%22%3Atrue%2C%22api_explorer%22%3Atrue%2C%22projection%22%3Afalse%2C%22comments%22%3Afalse%2C%22document_iframes%22%3Atrue%2C%22items_view%22%3Atrue%2C%22enterprise_login%22%3Afalse%2C%22v3_api%22%3Afalse%2C%22search%22%3Afalse%7D%2C%22featureFlags%22%3A%7B%22infographics%22%3Atrue%2C%22pages%22%3Afalse%2C%22smart_mapping%22%3Atrue%2C%22social_logins%22%3Atrue%2C%22slugs%22%3Atrue%2C%22link_to_basic_item%22%3Afalse%7D%2C%22torii%22%3A%7B%22sessionServiceName%22%3A%22session%22%2C%22providers%22%3A%7B%22arcgis-oauth-bearer%22%3A%7B%22apiKey%22%3A%22arcgisonline%22%2C%22portalUrl%22%3A%22https%3A//www.arcgis.com%22%2C%22showSocialLogins%22%3Atrue%7D%7D%7D%2C%22cedar%22%3A%7B%22assetBaseUrl%22%3A%22https%3A//d1iq7pbacwn5rb.cloudfront.net/opendata-ui/assets%22%7D%2C%22exportApplicationGlobal%22%3Afalse%2C%22ember-addon%22%3A%7B%22versionCompatibility%22%3A%7B%22ember%22%3A%22%3E%3D2.0.0%22%7D%7D%7D\">\\n  <script>\\n    var AmCharts_path = \\'https://d1iq7pbacwn5rb.cloudfront.net/opendata-ui/assets/amcharts\\';\\n  </script>\\n\\n  <link rel=\"stylesheet\" href=\"https://js.arcgis.com/3.21/esri/themes/calcite/dijit/calcite.css\">\\n  <link rel=\"stylesheet\" href=\"https://js.arcgis.com/3.21/esri/themes/calcite/esri/esri.css\">\\n  <script src=\"https://ajax.googleapis.com/ajax/libs/jquery/2.2.2/jquery.min.js\"></script>\\n\\n  <link rel=\"stylesheet\" href=\"//d1iq7pbacwn5rb.cloudfront.net/opendata-ui/assets/assets/vendor-f145368cec2fd1e904f21d4dccaa93a9.css\">\\n\\n  <!-- [begin custom site css injection point] - please do not remove this -->\\n\\n  <!-- FOR LTR DEVELOPMENT/TESTING: Un-Comment the next section -->\\n  <!-- <link rel=\"stylesheet\" href=\"/assets/opendata-base.css\"> -->\\n  <!-- FOR RTL TESTING: Un-Comment the next section -->\\n  <!-- <link rel=\"stylesheet\" href=\"//d1iq7pbacwn5rb.cloudfront.net/opendata-ui/assets/assets/opendata-rtl-528f590cdf9c8afa0b976d68d48ec8ea.css\">\\n    <link rel=\"stylesheet\" href=\"//cdn.rawgit.com/morteza/bootstrap-rtl/v3.3.4/dist/css/bootstrap-rtl.min.css\"> -->\\n\\n  <style></style>\\n\\n\\n\\n      <link rel=\"canonical\" href=\"http://dev-longbeachca.opendata.arcgis.com/datasets/97dcff4d3835408f8ff17119040a6f46\">\\n\\n      <script>\\n        window.__SITE={\"site\":{\"item\":null,\"data\":null,\"status\":403},\"status\":403}\\n        window.__DOMAIN={\"domainInfo\":{\"id\":\"12825\",\"domain\":\"dev-longbeachca.opendata.arcgis.com\",\"hostname\":\"dev-longbeachca.opendata.arcgis.com\",\"siteId\":\"6729e269f3054c0f8cdc08976c7de458\",\"clientKey\":\"sSwtCeglTpwB3l5d\",\"orgKey\":\"LongBeachCA\",\"siteTitle\":\"DataLB\",\"orgId\":\"yCArG7wGXGyWLqav\",\"orgTitle\":\"City of Long Beach, CA\",\"createdAt\":\"2017-10-04T16:33:19Z\",\"updatedAt\":\"2017-10-04T16:33:19Z\",\"sslOnly\":false,\"permanentRedirect\":false}}\\n      </script>\\n      <!-- DO NOT TRY TO TEST THE SHOEBOX BY PASTING THOSE SCRIPT TAGS IN HERE - IT WILL BLOW UP -->\\n  <title>ArcGIS Hub</title>\\n</head>\\n\\n<body class=\"calcite\">\\n  <script>\\n    /* eslint-disable */\\n    var dojoConfig = {\\n      async: true\\n    };\\n    /* eslint-enable */\\n  </script>\\n  <script src=\"https://js.arcgis.com/3.21/init.js\"></script>\\n  <script>\\n    require([\\n      \\'esri/Color\\', \\'esri/IdentityManager\\', \\'esri/SpatialReference\\', \\'esri/arcgis/utils\\', \\'esri/dijit/Legend\\', \\'esri/dijit/PopupTemplate\\', \\'esri/geometry/Extent\\', \\'esri/geometry/Point\\', \\'esri/geometry/geometryEngine\\', \\'esri/geometry/webMercatorUtils\\', \\'esri/graphic\\', \\'esri/graphicsUtils\\', \\'esri/layers/ArcGISDynamicMapServiceLayer\\', \\'esri/layers/ArcGISImageServiceLayer\\', \\'esri/layers/ArcGISTiledMapServiceLayer\\', \\'esri/layers/FeatureLayer\\', \\'esri/layers/GraphicsLayer\\', \\'esri/layers/OpenStreetMapLayer\\', \\'esri/layers/WebTiledLayer\\', \\'esri/map\\', \\'esri/renderers/ClassBreaksRenderer\\', \\'esri/renderers/SimpleRenderer\\', \\'esri/renderers/jsonUtils\\', \\'esri/renderers/smartMapping\\', \\'esri/request\\', \\'esri/styles/choropleth\\', \\'esri/symbols/SimpleFillSymbol\\', \\'esri/symbols/SimpleLineSymbol\\', \\'esri/symbols/SimpleMarkerSymbol\\', \\'esri/toolbars/draw\\', \\'esri/toolbars/edit\\'\\n    ], function(mod0, mod1, mod2, mod3, mod4, mod5, mod6, mod7, mod8, mod9, mod10, mod11, mod12, mod13, mod14, mod15, mod16, mod17, mod18, mod19, mod20, mod21, mod22, mod23, mod24, mod25, mod26, mod27, mod28, mod29, mod30) {\\n      var adoptables = [{\\n        name: \\'esri/Color\\',\\n        obj: mod0\\n      }, {\\n        name: \\'esri/IdentityManager\\',\\n        obj: mod1\\n      }, {\\n        name: \\'esri/SpatialReference\\',\\n        obj: mod2\\n      }, {\\n        name: \\'esri/arcgis/utils\\',\\n        obj: mod3\\n      }, {\\n        name: \\'esri/dijit/Legend\\',\\n        obj: mod4\\n      }, {\\n        name: \\'esri/dijit/PopupTemplate\\',\\n        obj: mod5\\n      }, {\\n        name: \\'esri/geometry/Extent\\',\\n        obj: mod6\\n      }, {\\n        name: \\'esri/geometry/Point\\',\\n        obj: mod7\\n      }, {\\n        name: \\'esri/geometry/geometryEngine\\',\\n        obj: mod8\\n      }, {\\n        name: \\'esri/geometry/webMercatorUtils\\',\\n        obj: mod9\\n      }, {\\n        name: \\'esri/graphic\\',\\n        obj: mod10\\n      }, {\\n        name: \\'esri/graphicsUtils\\',\\n        obj: mod11\\n      }, {\\n        name: \\'esri/layers/ArcGISDynamicMapServiceLayer\\',\\n        obj: mod12\\n      }, {\\n        name: \\'esri/layers/ArcGISImageServiceLayer\\',\\n        obj: mod13\\n      }, {\\n        name: \\'esri/layers/ArcGISTiledMapServiceLayer\\',\\n        obj: mod14\\n      }, {\\n        name: \\'esri/layers/FeatureLayer\\',\\n        obj: mod15\\n      }, {\\n        name: \\'esri/layers/GraphicsLayer\\',\\n        obj: mod16\\n      }, {\\n        name: \\'esri/layers/OpenStreetMapLayer\\',\\n        obj: mod17\\n      }, {\\n        name: \\'esri/layers/WebTiledLayer\\',\\n        obj: mod18\\n      }, {\\n        name: \\'esri/map\\',\\n        obj: mod19\\n      }, {\\n        name: \\'esri/renderers/ClassBreaksRenderer\\',\\n        obj: mod20\\n      }, {\\n        name: \\'esri/renderers/SimpleRenderer\\',\\n        obj: mod21\\n      }, {\\n        name: \\'esri/renderers/jsonUtils\\',\\n        obj: mod22\\n      }, {\\n        name: \\'esri/renderers/smartMapping\\',\\n        obj: mod23\\n      }, {\\n        name: \\'esri/request\\',\\n        obj: mod24\\n      }, {\\n        name: \\'esri/styles/choropleth\\',\\n        obj: mod25\\n      }, {\\n        name: \\'esri/symbols/SimpleFillSymbol\\',\\n        obj: mod26\\n      }, {\\n        name: \\'esri/symbols/SimpleLineSymbol\\',\\n        obj: mod27\\n      }, {\\n        name: \\'esri/symbols/SimpleMarkerSymbol\\',\\n        obj: mod28\\n      }, {\\n        name: \\'esri/toolbars/draw\\',\\n        obj: mod29\\n      }, {\\n        name: \\'esri/toolbars/edit\\',\\n        obj: mod30\\n      }];\\n      var isVendor = new RegExp(\\'vendor(.*js)\\');\\n\\n      function recursiveRequire(i, scripts) {\\n        if (i >= scripts.length) {\\n          return;\\n        }\\n        require([scripts[i]], function() {\\n          if (isVendor.test(scripts[i])) {\\n            adoptables.forEach(function(adoptable) {\\n              efineday(adoptable.name, [], function() {\\n                return adoptable.obj;\\n              });\\n            });\\n          }\\n          recursiveRequire(++i, scripts);\\n        });\\n      }\\n      recursiveRequire(0, [\\'//d1iq7pbacwn5rb.cloudfront.net/opendata-ui/assets/assets/vendor-fcb0d3406443a9d930b9db1cfd228b87.js\\', \\'//d1iq7pbacwn5rb.cloudfront.net/opendata-ui/assets/assets/opendata-ui-d170ccbda09f9d421b23bfceb2a2be66.js\\']);\\n    });\\n  </script>\\n\\n\\n\\n\\n\\n  <div id=\"ember-basic-dropdown-wormhole\"></div>\\n\\n  <!-- opendata-ui version: 3.21.0+9edf52f730 - Tue, 03 Apr 2018 19:27:36 GMT -->\\n</body>\\n\\n</html>'"
      ]
     },
     "execution_count": 18,
     "metadata": {},
     "output_type": "execute_result"
    }
   ],
   "source": [
    "record = requests.get(api_url)"
   ]
  },
  {
   "cell_type": "code",
   "execution_count": null,
   "metadata": {},
   "outputs": [],
   "source": [
    "record"
   ]
  },
  {
   "cell_type": "code",
   "execution_count": null,
   "metadata": {
    "collapsed": true
   },
   "outputs": [],
   "source": []
  }
 ],
 "metadata": {
  "kernelspec": {
   "display_name": "Python 3",
   "language": "python",
   "name": "python3"
  },
  "language_info": {
   "codemirror_mode": {
    "name": "ipython",
    "version": 3
   },
   "file_extension": ".py",
   "mimetype": "text/x-python",
   "name": "python",
   "nbconvert_exporter": "python",
   "pygments_lexer": "ipython3",
   "version": "3.6.1"
  }
 },
 "nbformat": 4,
 "nbformat_minor": 2
}
